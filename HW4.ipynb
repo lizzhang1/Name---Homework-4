{
 "cells": [
  {
   "cell_type": "code",
   "execution_count": 9,
   "metadata": {},
   "outputs": [],
   "source": [
    "concept = {'Dictionary': 'A collection of key-value pairs.','String': 'A series of characters', \n",
    "           'Comment': 'A note in a program that the Python interpreter ignores.', 'Value': 'An item associated with a key in a dictionary.',\n",
    "          'loop': 'Work through a collection of items, one at a time.', 'List':'A collection of iterms in a particular order', \n",
    "           'Key':'The first item in a key-value pair in a dictionary', \"Float\" : 'A numerical value with a decimal component.',\n",
    "          'Set':'An unordered bag of values.'}"
   ]
  },
  {
   "cell_type": "code",
   "execution_count": 10,
   "metadata": {},
   "outputs": [
    {
     "name": "stdout",
     "output_type": "stream",
     "text": [
      "Dictionary:A collection of key-value pairs.\n",
      "String:A series of characters\n",
      "Comment:A note in a program that the Python interpreter ignores.\n",
      "Value:An item associated with a key in a dictionary.\n",
      "loop:Work through a collection of items, one at a time.\n",
      "List:A collection of iterms in a particular order\n",
      "Key:The first item in a key-value pair in a dictionary\n",
      "Float:A numerical value with a decimal component.\n",
      "Set:An unordered bag of values.\n"
     ]
    }
   ],
   "source": [
    "for key, value in concept.items():\n",
    "    print(\"{}:{}\".format(key, value))\n"
   ]
  },
  {
   "cell_type": "code",
   "execution_count": 17,
   "metadata": {},
   "outputs": [
    {
     "data": {
      "text/plain": [
       "{'Dahua Xiyou',\n",
       " 'How to lose a guy in 10 days',\n",
       " 'Jurassic Park',\n",
       " 'Prince of Persia',\n",
       " 'Saving Private Ryan',\n",
       " 'Troy'}"
      ]
     },
     "execution_count": 17,
     "metadata": {},
     "output_type": "execute_result"
    }
   ],
   "source": [
    "Xue_fav_movie = {'Saving Private Ryan','How to lose a guy in 10 days', 'Prince of Persia','Troy','Jurassic Park', 'Dahua Xiyou','Inception'}\n",
    "Aaron_fav_movie = {'Inception','Batman'}\n",
    "\n",
    "Xue_fav_movie.difference(Aaron_fav_movie)"
   ]
  },
  {
   "cell_type": "code",
   "execution_count": 16,
   "metadata": {},
   "outputs": [
    {
     "data": {
      "text/plain": [
       "{'Inception'}"
      ]
     },
     "execution_count": 16,
     "metadata": {},
     "output_type": "execute_result"
    }
   ],
   "source": [
    "Xue_fav_movie = {'Saving Private Ryan','How to lose a guy in 10 days', 'Prince of Persia','Troy','Jurassic Park', 'Dahua Xiyou','Inception'}\n",
    "Aaron_fav_movie = {'Inception','Batman'}\n",
    "\n",
    "Xue_fav_movie.intersection(Aaron_fav_movie)\n"
   ]
  },
  {
   "cell_type": "code",
   "execution_count": 18,
   "metadata": {},
   "outputs": [
    {
     "data": {
      "text/plain": [
       "{'Batman'}"
      ]
     },
     "execution_count": 18,
     "metadata": {},
     "output_type": "execute_result"
    }
   ],
   "source": [
    "Xue_fav_movie = {'Saving Private Ryan','How to lose a guy in 10 days', 'Prince of Persia','Troy','Jurassic Park', 'Dahua Xiyou','Inception'}\n",
    "Aaron_fav_movie = {'Inception','Batman'}\n",
    "\n",
    "Aaron_fav_movie.difference(Xue_fav_movie)"
   ]
  },
  {
   "cell_type": "code",
   "execution_count": 28,
   "metadata": {},
   "outputs": [
    {
     "name": "stdout",
     "output_type": "stream",
     "text": [
      "('Get up', 'Brush the teeth', 'walk the dog', 'feed the dog', 'work/study', 'brunch', 'work', 'walk the dog', 'go to the gym', 'Walk the dog', 'Read', 'Shower', 'Go to the bed')\n"
     ]
    }
   ],
   "source": [
    "to_do_list = ('Get up','Brush the teeth', \"walk the dog\",'feed the dog','work/study','brunch','work', 'walk the dog','go to the gym','Walk the dog', \n",
    "              'Read','Shower', 'Go to the bed')\n",
    "\n",
    "print(to_do_list)"
   ]
  },
  {
   "cell_type": "code",
   "execution_count": null,
   "metadata": {},
   "outputs": [],
   "source": []
  }
 ],
 "metadata": {
  "kernelspec": {
   "display_name": "Python 3",
   "language": "python",
   "name": "python3"
  },
  "language_info": {
   "codemirror_mode": {
    "name": "ipython",
    "version": 3
   },
   "file_extension": ".py",
   "mimetype": "text/x-python",
   "name": "python",
   "nbconvert_exporter": "python",
   "pygments_lexer": "ipython3",
   "version": "3.6.0"
  }
 },
 "nbformat": 4,
 "nbformat_minor": 2
}
